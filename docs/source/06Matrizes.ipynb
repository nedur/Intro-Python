{
 "cells": [
  {
   "cell_type": "markdown",
   "id": "dddf8754",
   "metadata": {},
   "source": [
    "# 6. Matrizes\n",
    "\n",
    "## 6.1. Criação de matrizes\n",
    "\n",
    "Aqui vem uma boa notícia! Você já sabe criar matrizes! Em **Python**, o pacote mais utilizado para criar matrizes é o **Numpy**, que já foi utilizado no tópico anterior, e a função para criação de matrizes é **np.array**. \n",
    "\n",
    "Se você está em um novo *Notebook*, será necessário importar novamente o pacote **Numpy**: "
   ]
  },
  {
   "cell_type": "code",
   "execution_count": 1,
   "id": "73e5670a",
   "metadata": {},
   "outputs": [],
   "source": [
    "import numpy as np"
   ]
  },
  {
   "cell_type": "markdown",
   "id": "8a1fc6e3",
   "metadata": {},
   "source": [
    "Para começar, vamos criar uma matriz com uma sequência de números de 1 a 9 e, em seguida, visualizar a matriz com a função `print()`: "
   ]
  },
  {
   "cell_type": "code",
   "execution_count": 2,
   "id": "bf734abb",
   "metadata": {},
   "outputs": [
    {
     "name": "stdout",
     "output_type": "stream",
     "text": [
      "[[1 2 3]\n",
      " [4 5 6]\n",
      " [7 8 9]]\n"
     ]
    }
   ],
   "source": [
    "V1 = np.array([[1, 2, 3],[4, 5, 6],[7, 8, 9]])\n",
    "print(V1)"
   ]
  },
  {
   "cell_type": "markdown",
   "id": "8e86d8d2",
   "metadata": {},
   "source": [
    "Para criar esses mesmos números de forma automática, precisamos aplicar duas funções. Primeiro a dunção `np.arange()`, que cria uma sequência em um vetor, e, sem seguida, a função `reshape()`, que altera o formato de um vetor para uma matriz *3 x 3*:"
   ]
  },
  {
   "cell_type": "code",
   "execution_count": 3,
   "id": "d84850fd",
   "metadata": {},
   "outputs": [
    {
     "name": "stdout",
     "output_type": "stream",
     "text": [
      "[[1 2 3]\n",
      " [4 5 6]\n",
      " [7 8 9]]\n"
     ]
    }
   ],
   "source": [
    "V2 = np.arange(1, 10).reshape(3, 3)\n",
    "print(V1)"
   ]
  },
  {
   "cell_type": "markdown",
   "id": "ca46614a",
   "metadata": {},
   "source": [
    "Matrizes também podem ser criadas a partir da combinação de vetores. Considere, por exemplo, os vetores **c1** e **c2**:"
   ]
  },
  {
   "cell_type": "code",
   "execution_count": 4,
   "id": "ecbe5607",
   "metadata": {},
   "outputs": [],
   "source": [
    "c1 = np.array([-1, 4])\n",
    "c2 = np.array([3, 2])"
   ]
  },
  {
   "cell_type": "markdown",
   "id": "7e50e485",
   "metadata": {},
   "source": [
    "Com auxílio da função `np.column_stack()`, podemos combinar os dois vetores da seguinte forma:"
   ]
  },
  {
   "cell_type": "code",
   "execution_count": 5,
   "id": "9709a7e1",
   "metadata": {},
   "outputs": [],
   "source": [
    "Xc = np.column_stack((c1,c2))"
   ]
  },
  {
   "cell_type": "markdown",
   "id": "c2073894",
   "metadata": {},
   "source": [
    "Repare que a função `np.column_stack()` combina o vetores pelas colunas. Ou seja, nesse caso, as colunas da matrix **Xv** serão dadas pelos vetores **c1** e **c2**:"
   ]
  },
  {
   "cell_type": "code",
   "execution_count": 6,
   "id": "fe1f003f",
   "metadata": {},
   "outputs": [
    {
     "name": "stdout",
     "output_type": "stream",
     "text": [
      "[[-1  3]\n",
      " [ 4  2]]\n"
     ]
    }
   ],
   "source": [
    "print(Xc)"
   ]
  },
  {
   "cell_type": "markdown",
   "id": "24c0d7c7",
   "metadata": {},
   "source": [
    "A função `np.row_stack()`, por sua vez, combina os vetores pelas linhas:"
   ]
  },
  {
   "cell_type": "code",
   "execution_count": 7,
   "id": "36742b0c",
   "metadata": {},
   "outputs": [
    {
     "name": "stdout",
     "output_type": "stream",
     "text": [
      "[[-1  4]\n",
      " [ 3  2]]\n"
     ]
    }
   ],
   "source": [
    "Xr = np.row_stack((c1,c2))\n",
    "print(Xr)"
   ]
  },
  {
   "cell_type": "markdown",
   "id": "0a10563b",
   "metadata": {},
   "source": [
    "Alguns tipos de matrizes são muito úteis, como, por exemplo, a matriz identidade. \n",
    "\n",
    "Podemos criá-la com a função `np.eye()`:"
   ]
  },
  {
   "cell_type": "code",
   "execution_count": 8,
   "id": "a088b3ff",
   "metadata": {},
   "outputs": [
    {
     "name": "stdout",
     "output_type": "stream",
     "text": [
      "[[1. 0. 0.]\n",
      " [0. 1. 0.]\n",
      " [0. 0. 1.]]\n"
     ]
    }
   ],
   "source": [
    "ide = np.eye(3)\n",
    "print(ide)"
   ]
  },
  {
   "cell_type": "markdown",
   "id": "0777ed66",
   "metadata": {},
   "source": [
    "Também é muito útil criar uma matriz preenchida apenas com o número 1. Podemos criar uma matriz *5 x 5 (5 linhas e 5 colunas)* com a função `np.ones()`: "
   ]
  },
  {
   "cell_type": "code",
   "execution_count": 9,
   "id": "53dc07bc",
   "metadata": {},
   "outputs": [
    {
     "name": "stdout",
     "output_type": "stream",
     "text": [
      "[[1. 1. 1. 1. 1.]\n",
      " [1. 1. 1. 1. 1.]\n",
      " [1. 1. 1. 1. 1.]\n",
      " [1. 1. 1. 1. 1.]\n",
      " [1. 1. 1. 1. 1.]]\n"
     ]
    }
   ],
   "source": [
    "uns = np.ones((5, 5))\n",
    "print(uns)"
   ]
  },
  {
   "cell_type": "markdown",
   "id": "0c3f4881",
   "metadata": {},
   "source": [
    "Ou uma matriz de zeros com `np.zeros`:"
   ]
  },
  {
   "cell_type": "code",
   "execution_count": 10,
   "id": "84a116e0",
   "metadata": {},
   "outputs": [
    {
     "name": "stdout",
     "output_type": "stream",
     "text": [
      "[[0. 0. 0. 0. 0.]\n",
      " [0. 0. 0. 0. 0.]\n",
      " [0. 0. 0. 0. 0.]\n",
      " [0. 0. 0. 0. 0.]\n",
      " [0. 0. 0. 0. 0.]]\n"
     ]
    }
   ],
   "source": [
    "zeros = np.zeros((5, 5))\n",
    "print(zeros)"
   ]
  },
  {
   "cell_type": "markdown",
   "id": "76c0ea21",
   "metadata": {},
   "source": [
    "Ou ainda, uma matriz com algum elemento ou conjunto de elementos desejado, com a função `np.full()`: "
   ]
  },
  {
   "cell_type": "code",
   "execution_count": 11,
   "id": "abaeafa4",
   "metadata": {},
   "outputs": [
    {
     "name": "stdout",
     "output_type": "stream",
     "text": [
      "[['Python' 'Nedur']\n",
      " ['Python' 'Nedur']]\n"
     ]
    }
   ],
   "source": [
    "curso = np.full((2, 2), [\"Python\", \"Nedur\"])\n",
    "print(curso)"
   ]
  },
  {
   "cell_type": "markdown",
   "id": "8704a6da",
   "metadata": {},
   "source": [
    "Para qualquer umas dessas matrizes, podemos checar seu tamanho utilizando a função `np.shape()`: "
   ]
  },
  {
   "cell_type": "code",
   "execution_count": 12,
   "id": "08e6ab65",
   "metadata": {},
   "outputs": [
    {
     "data": {
      "text/plain": [
       "(2, 2)"
      ]
     },
     "execution_count": 12,
     "metadata": {},
     "output_type": "execute_result"
    }
   ],
   "source": [
    "np.shape(curso)"
   ]
  },
  {
   "cell_type": "markdown",
   "id": "ac974073",
   "metadata": {},
   "source": [
    "Existem vários outros tipos de funções para criação e manipulação de matrizes, todas estão disponíveis na [documentação do **Numpy**](https://numpy.org/doc/stable/reference/routines.html). "
   ]
  },
  {
   "cell_type": "markdown",
   "id": "25c82032",
   "metadata": {},
   "source": [
    "## 6.2. Indexação de Matrizes \n",
    "\n",
    "As matrizes podem ser manipuladas da mesma forma que os vetores. As indexações são feitas utilizando a mesma lógica.\n",
    "\n",
    "Para começar, vamos criar uma matriz *C* de dimensão *10 x 10* com números de 1 a 100: "
   ]
  },
  {
   "cell_type": "code",
   "execution_count": 13,
   "id": "24833081",
   "metadata": {},
   "outputs": [
    {
     "name": "stdout",
     "output_type": "stream",
     "text": [
      "[[  1  11  21  31  41  51  61  71  81  91]\n",
      " [  2  12  22  32  42  52  62  72  82  92]\n",
      " [  3  13  23  33  43  53  63  73  83  93]\n",
      " [  4  14  24  34  44  54  64  74  84  94]\n",
      " [  5  15  25  35  45  55  65  75  85  95]\n",
      " [  6  16  26  36  46  56  66  76  86  96]\n",
      " [  7  17  27  37  47  57  67  77  87  97]\n",
      " [  8  18  28  38  48  58  68  78  88  98]\n",
      " [  9  19  29  39  49  59  69  79  89  99]\n",
      " [ 10  20  30  40  50  60  70  80  90 100]]\n"
     ]
    }
   ],
   "source": [
    "C = np.arange(1, 101).reshape(10, 10).T\n",
    "print(C)"
   ]
  },
  {
   "cell_type": "markdown",
   "id": "a0bdcf51",
   "metadata": {},
   "source": [
    "Repare que para criar a matriz começamos criando um vetor com uma sequência que começaa em 1 (incluso) e vai até 101 (não incluso), depois mudamos o formato para uma matriz *10 x 10* e, por fim, utilizamos o atributo **T**, que transpõe a matriz criada. Nas próximas seções trataremos de outras operações e funções com matrizes. \n",
    "\n",
    "Para selecionar o elemento da primeira linha da segunda coluna, por exemplo, a seguinte indexação pode ser usada:"
   ]
  },
  {
   "cell_type": "code",
   "execution_count": 14,
   "id": "aca71d1e",
   "metadata": {},
   "outputs": [
    {
     "data": {
      "text/plain": [
       "11"
      ]
     },
     "execution_count": 14,
     "metadata": {},
     "output_type": "execute_result"
    }
   ],
   "source": [
    "C[0, 1]"
   ]
  },
  {
   "cell_type": "markdown",
   "id": "b65721f4",
   "metadata": {},
   "source": [
    "O mesmo resultado pode ser obtido com: "
   ]
  },
  {
   "cell_type": "code",
   "execution_count": 15,
   "id": "2e44a76b",
   "metadata": {},
   "outputs": [
    {
     "data": {
      "text/plain": [
       "11"
      ]
     },
     "execution_count": 15,
     "metadata": {},
     "output_type": "execute_result"
    }
   ],
   "source": [
    "C[0][1]"
   ]
  },
  {
   "cell_type": "markdown",
   "id": "1e3094d9",
   "metadata": {},
   "source": [
    "A terceira linha da matriz **C**, por sua vez, pode ser selecionada com:"
   ]
  },
  {
   "cell_type": "code",
   "execution_count": 16,
   "id": "83ad31d0",
   "metadata": {},
   "outputs": [
    {
     "data": {
      "text/plain": [
       "array([ 3, 13, 23, 33, 43, 53, 63, 73, 83, 93])"
      ]
     },
     "execution_count": 16,
     "metadata": {},
     "output_type": "execute_result"
    }
   ],
   "source": [
    "C[2, : ]"
   ]
  },
  {
   "cell_type": "markdown",
   "id": "11e98dc0",
   "metadata": {},
   "source": [
    "Ou com: "
   ]
  },
  {
   "cell_type": "code",
   "execution_count": 17,
   "id": "bdfead24",
   "metadata": {},
   "outputs": [
    {
     "data": {
      "text/plain": [
       "array([ 3, 13, 23, 33, 43, 53, 63, 73, 83, 93])"
      ]
     },
     "execution_count": 17,
     "metadata": {},
     "output_type": "execute_result"
    }
   ],
   "source": [
    "C[2]"
   ]
  },
  {
   "cell_type": "markdown",
   "id": "06dce1e9",
   "metadata": {},
   "source": [
    "As linhas de 2 a 4 podem ser obtidas com:"
   ]
  },
  {
   "cell_type": "code",
   "execution_count": 18,
   "id": "ddb9bf72",
   "metadata": {},
   "outputs": [
    {
     "data": {
      "text/plain": [
       "array([[ 2, 12, 22, 32, 42, 52, 62, 72, 82, 92],\n",
       "       [ 3, 13, 23, 33, 43, 53, 63, 73, 83, 93],\n",
       "       [ 4, 14, 24, 34, 44, 54, 64, 74, 84, 94]])"
      ]
     },
     "execution_count": 18,
     "metadata": {},
     "output_type": "execute_result"
    }
   ],
   "source": [
    "C[1:4]"
   ]
  },
  {
   "cell_type": "markdown",
   "id": "35a9b47a",
   "metadata": {},
   "source": [
    "Para selecionar apenas a primeira coluna da matriz **C**, a seguinte indexação pode ser usada:"
   ]
  },
  {
   "cell_type": "code",
   "execution_count": 19,
   "id": "d5ed5582",
   "metadata": {},
   "outputs": [
    {
     "data": {
      "text/plain": [
       "array([ 1,  2,  3,  4,  5,  6,  7,  8,  9, 10])"
      ]
     },
     "execution_count": 19,
     "metadata": {},
     "output_type": "execute_result"
    }
   ],
   "source": [
    "C[ : ,0]"
   ]
  },
  {
   "cell_type": "markdown",
   "id": "143dd1b6",
   "metadata": {},
   "source": [
    "E para selecionar apenas as colunas 1 a 3:"
   ]
  },
  {
   "cell_type": "code",
   "execution_count": 20,
   "id": "f9ff81e8",
   "metadata": {},
   "outputs": [
    {
     "data": {
      "text/plain": [
       "array([[ 1, 11, 21],\n",
       "       [ 2, 12, 22],\n",
       "       [ 3, 13, 23],\n",
       "       [ 4, 14, 24],\n",
       "       [ 5, 15, 25],\n",
       "       [ 6, 16, 26],\n",
       "       [ 7, 17, 27],\n",
       "       [ 8, 18, 28],\n",
       "       [ 9, 19, 29],\n",
       "       [10, 20, 30]])"
      ]
     },
     "execution_count": 20,
     "metadata": {},
     "output_type": "execute_result"
    }
   ],
   "source": [
    "C[ : ,0:3]"
   ]
  },
  {
   "cell_type": "markdown",
   "id": "02edd088",
   "metadata": {},
   "source": [
    "## 6.3. Operações com matrizes\n",
    "\n",
    "Similarmente aos vetores, operações aritméticas e lógicas também são usadas com as matrizes.\n",
    "\n",
    "Considere novamente a matriz **C**:"
   ]
  },
  {
   "cell_type": "code",
   "execution_count": 21,
   "id": "24d4029c",
   "metadata": {},
   "outputs": [
    {
     "name": "stdout",
     "output_type": "stream",
     "text": [
      "[[  1  11  21  31  41  51  61  71  81  91]\n",
      " [  2  12  22  32  42  52  62  72  82  92]\n",
      " [  3  13  23  33  43  53  63  73  83  93]\n",
      " [  4  14  24  34  44  54  64  74  84  94]\n",
      " [  5  15  25  35  45  55  65  75  85  95]\n",
      " [  6  16  26  36  46  56  66  76  86  96]\n",
      " [  7  17  27  37  47  57  67  77  87  97]\n",
      " [  8  18  28  38  48  58  68  78  88  98]\n",
      " [  9  19  29  39  49  59  69  79  89  99]\n",
      " [ 10  20  30  40  50  60  70  80  90 100]]\n"
     ]
    }
   ],
   "source": [
    "print(C)"
   ]
  },
  {
   "cell_type": "markdown",
   "id": "cad766c1",
   "metadata": {},
   "source": [
    "Multiplicar a matriz **C** por 10, por exemplo, significa multiplicar cada elemento da matriz por 10:"
   ]
  },
  {
   "cell_type": "code",
   "execution_count": 22,
   "id": "1a3a5dab",
   "metadata": {},
   "outputs": [
    {
     "data": {
      "text/plain": [
       "array([[  10,  110,  210,  310,  410,  510,  610,  710,  810,  910],\n",
       "       [  20,  120,  220,  320,  420,  520,  620,  720,  820,  920],\n",
       "       [  30,  130,  230,  330,  430,  530,  630,  730,  830,  930],\n",
       "       [  40,  140,  240,  340,  440,  540,  640,  740,  840,  940],\n",
       "       [  50,  150,  250,  350,  450,  550,  650,  750,  850,  950],\n",
       "       [  60,  160,  260,  360,  460,  560,  660,  760,  860,  960],\n",
       "       [  70,  170,  270,  370,  470,  570,  670,  770,  870,  970],\n",
       "       [  80,  180,  280,  380,  480,  580,  680,  780,  880,  980],\n",
       "       [  90,  190,  290,  390,  490,  590,  690,  790,  890,  990],\n",
       "       [ 100,  200,  300,  400,  500,  600,  700,  800,  900, 1000]])"
      ]
     },
     "execution_count": 22,
     "metadata": {},
     "output_type": "execute_result"
    }
   ],
   "source": [
    "C * 10"
   ]
  },
  {
   "cell_type": "markdown",
   "id": "40279a87",
   "metadata": {},
   "source": [
    "Similarmente, dividir **C** por 10 significa dividir cada elemento por 10:"
   ]
  },
  {
   "cell_type": "code",
   "execution_count": 23,
   "id": "869c26c0",
   "metadata": {},
   "outputs": [
    {
     "data": {
      "text/plain": [
       "array([[ 0.1,  1.1,  2.1,  3.1,  4.1,  5.1,  6.1,  7.1,  8.1,  9.1],\n",
       "       [ 0.2,  1.2,  2.2,  3.2,  4.2,  5.2,  6.2,  7.2,  8.2,  9.2],\n",
       "       [ 0.3,  1.3,  2.3,  3.3,  4.3,  5.3,  6.3,  7.3,  8.3,  9.3],\n",
       "       [ 0.4,  1.4,  2.4,  3.4,  4.4,  5.4,  6.4,  7.4,  8.4,  9.4],\n",
       "       [ 0.5,  1.5,  2.5,  3.5,  4.5,  5.5,  6.5,  7.5,  8.5,  9.5],\n",
       "       [ 0.6,  1.6,  2.6,  3.6,  4.6,  5.6,  6.6,  7.6,  8.6,  9.6],\n",
       "       [ 0.7,  1.7,  2.7,  3.7,  4.7,  5.7,  6.7,  7.7,  8.7,  9.7],\n",
       "       [ 0.8,  1.8,  2.8,  3.8,  4.8,  5.8,  6.8,  7.8,  8.8,  9.8],\n",
       "       [ 0.9,  1.9,  2.9,  3.9,  4.9,  5.9,  6.9,  7.9,  8.9,  9.9],\n",
       "       [ 1. ,  2. ,  3. ,  4. ,  5. ,  6. ,  7. ,  8. ,  9. , 10. ]])"
      ]
     },
     "execution_count": 23,
     "metadata": {},
     "output_type": "execute_result"
    }
   ],
   "source": [
    "C / 10"
   ]
  },
  {
   "cell_type": "markdown",
   "id": "d209a2ab",
   "metadata": {},
   "source": [
    "Faça o teste também com `C + 10` e `C - 10`:"
   ]
  },
  {
   "cell_type": "code",
   "execution_count": 24,
   "id": "b8bab5b8",
   "metadata": {},
   "outputs": [
    {
     "data": {
      "text/plain": [
       "array([[ 11,  21,  31,  41,  51,  61,  71,  81,  91, 101],\n",
       "       [ 12,  22,  32,  42,  52,  62,  72,  82,  92, 102],\n",
       "       [ 13,  23,  33,  43,  53,  63,  73,  83,  93, 103],\n",
       "       [ 14,  24,  34,  44,  54,  64,  74,  84,  94, 104],\n",
       "       [ 15,  25,  35,  45,  55,  65,  75,  85,  95, 105],\n",
       "       [ 16,  26,  36,  46,  56,  66,  76,  86,  96, 106],\n",
       "       [ 17,  27,  37,  47,  57,  67,  77,  87,  97, 107],\n",
       "       [ 18,  28,  38,  48,  58,  68,  78,  88,  98, 108],\n",
       "       [ 19,  29,  39,  49,  59,  69,  79,  89,  99, 109],\n",
       "       [ 20,  30,  40,  50,  60,  70,  80,  90, 100, 110]])"
      ]
     },
     "execution_count": 24,
     "metadata": {},
     "output_type": "execute_result"
    }
   ],
   "source": [
    "C + 10"
   ]
  },
  {
   "cell_type": "code",
   "execution_count": 25,
   "id": "1e442c69",
   "metadata": {},
   "outputs": [
    {
     "data": {
      "text/plain": [
       "array([[-9,  1, 11, 21, 31, 41, 51, 61, 71, 81],\n",
       "       [-8,  2, 12, 22, 32, 42, 52, 62, 72, 82],\n",
       "       [-7,  3, 13, 23, 33, 43, 53, 63, 73, 83],\n",
       "       [-6,  4, 14, 24, 34, 44, 54, 64, 74, 84],\n",
       "       [-5,  5, 15, 25, 35, 45, 55, 65, 75, 85],\n",
       "       [-4,  6, 16, 26, 36, 46, 56, 66, 76, 86],\n",
       "       [-3,  7, 17, 27, 37, 47, 57, 67, 77, 87],\n",
       "       [-2,  8, 18, 28, 38, 48, 58, 68, 78, 88],\n",
       "       [-1,  9, 19, 29, 39, 49, 59, 69, 79, 89],\n",
       "       [ 0, 10, 20, 30, 40, 50, 60, 70, 80, 90]])"
      ]
     },
     "execution_count": 25,
     "metadata": {},
     "output_type": "execute_result"
    }
   ],
   "source": [
    "C - 10"
   ]
  },
  {
   "cell_type": "markdown",
   "id": "0352844e",
   "metadata": {},
   "source": [
    "Além disso, operações lógicas também podem ser usadas com as matrizes. O resultado será True (verdadeiro) ou False (falso), conforme condição utilizada:"
   ]
  },
  {
   "cell_type": "code",
   "execution_count": 26,
   "id": "3d4a7dc4",
   "metadata": {},
   "outputs": [
    {
     "data": {
      "text/plain": [
       "array([[False, False, False, False, False,  True,  True,  True,  True,\n",
       "         True],\n",
       "       [False, False, False, False, False,  True,  True,  True,  True,\n",
       "         True],\n",
       "       [False, False, False, False, False,  True,  True,  True,  True,\n",
       "         True],\n",
       "       [False, False, False, False, False,  True,  True,  True,  True,\n",
       "         True],\n",
       "       [False, False, False, False, False,  True,  True,  True,  True,\n",
       "         True],\n",
       "       [False, False, False, False, False,  True,  True,  True,  True,\n",
       "         True],\n",
       "       [False, False, False, False, False,  True,  True,  True,  True,\n",
       "         True],\n",
       "       [False, False, False, False, False,  True,  True,  True,  True,\n",
       "         True],\n",
       "       [False, False, False, False, False,  True,  True,  True,  True,\n",
       "         True],\n",
       "       [False, False, False, False,  True,  True,  True,  True,  True,\n",
       "         True]])"
      ]
     },
     "execution_count": 26,
     "metadata": {},
     "output_type": "execute_result"
    }
   ],
   "source": [
    "C >= 50"
   ]
  },
  {
   "cell_type": "markdown",
   "id": "84262b33",
   "metadata": {},
   "source": [
    "Para reportar os elementos da matriz baseado em uma condição específica, o seguinte código pode ser usado:"
   ]
  },
  {
   "cell_type": "code",
   "execution_count": 27,
   "id": "4a3a6de2",
   "metadata": {},
   "outputs": [
    {
     "data": {
      "text/plain": [
       "array([ 51,  61,  71,  81,  91,  52,  62,  72,  82,  92,  53,  63,  73,\n",
       "        83,  93,  54,  64,  74,  84,  94,  55,  65,  75,  85,  95,  56,\n",
       "        66,  76,  86,  96,  57,  67,  77,  87,  97,  58,  68,  78,  88,\n",
       "        98,  59,  69,  79,  89,  99,  50,  60,  70,  80,  90, 100])"
      ]
     },
     "execution_count": 27,
     "metadata": {},
     "output_type": "execute_result"
    }
   ],
   "source": [
    "C[C >= 50]"
   ]
  },
  {
   "cell_type": "markdown",
   "id": "4263ae76",
   "metadata": {},
   "source": [
    "Além disso, todas as mesmas funções utilizadas em vetores podem ser utilizadas em um **array** de qualquer dimensão: \n",
    "\n",
    "A tabela abaixo apresenta algumas dessas funções:\n",
    "\n",
    "Função             | Descrição\n",
    ":------------------|:------------\n",
    "`np.sum()` \t       | Retorna a soma do vetor\n",
    "`np.min()`\t       | Retorna o valor mínimo do vetor\n",
    "`np.max()`   \t   | Retorna o valor máximo do vetor\n",
    "`np.mean()`        | Retorna a média do vetor\n",
    "`np.median()`      | Retorna a mediana do vetor\n",
    "`np.var()` \t       | Retorna a variância do vetor\n",
    "`np.std()`         | Retorna o desvio padrão do vetor\n",
    "\n",
    "Teste algumas dessas funções com a matriz **C**:"
   ]
  },
  {
   "cell_type": "code",
   "execution_count": 28,
   "id": "53d944cd",
   "metadata": {},
   "outputs": [
    {
     "name": "stdout",
     "output_type": "stream",
     "text": [
      "[[  1  11  21  31  41  51  61  71  81  91]\n",
      " [  2  12  22  32  42  52  62  72  82  92]\n",
      " [  3  13  23  33  43  53  63  73  83  93]\n",
      " [  4  14  24  34  44  54  64  74  84  94]\n",
      " [  5  15  25  35  45  55  65  75  85  95]\n",
      " [  6  16  26  36  46  56  66  76  86  96]\n",
      " [  7  17  27  37  47  57  67  77  87  97]\n",
      " [  8  18  28  38  48  58  68  78  88  98]\n",
      " [  9  19  29  39  49  59  69  79  89  99]\n",
      " [ 10  20  30  40  50  60  70  80  90 100]]\n"
     ]
    }
   ],
   "source": [
    "print(C)"
   ]
  },
  {
   "cell_type": "code",
   "execution_count": 29,
   "id": "5cd9ea1a",
   "metadata": {},
   "outputs": [
    {
     "data": {
      "text/plain": [
       "28.86607004772212"
      ]
     },
     "execution_count": 29,
     "metadata": {},
     "output_type": "execute_result"
    }
   ],
   "source": [
    "np.std(C)"
   ]
  },
  {
   "cell_type": "code",
   "execution_count": 30,
   "id": "6675cd9b",
   "metadata": {},
   "outputs": [
    {
     "data": {
      "text/plain": [
       "5050"
      ]
     },
     "execution_count": 30,
     "metadata": {},
     "output_type": "execute_result"
    }
   ],
   "source": [
    "np.sum(C)"
   ]
  },
  {
   "cell_type": "markdown",
   "id": "f87c7e55",
   "metadata": {},
   "source": [
    "<div class=\"alert alert-info\"> \n",
    "    \n",
    "**Observação:**\n",
    "    \n",
    "A função `np.sum` também pode ser usada para somar as linhas (`axis=1`) ou colunas (`axis=0`). Observe que o atributo *axis* da função refere-se a uma dimensão do *array* multidimensional (*Ndimensional array*) que utilizamos tanto para vetores, quanto para matrizes (sim, você pode usar a mesma função para criar objetos multidimencionais). Veja alguns exemplos abaixo. \n",
    "\n",
    "</div>  "
   ]
  },
  {
   "cell_type": "markdown",
   "id": "23536978",
   "metadata": {},
   "source": [
    "Para soma de colunas: "
   ]
  },
  {
   "cell_type": "code",
   "execution_count": 31,
   "id": "921b0e6e",
   "metadata": {},
   "outputs": [
    {
     "data": {
      "text/plain": [
       "array([ 55, 155, 255, 355, 455, 555, 655, 755, 855, 955])"
      ]
     },
     "execution_count": 31,
     "metadata": {},
     "output_type": "execute_result"
    }
   ],
   "source": [
    "np.sum(C, axis=0)"
   ]
  },
  {
   "cell_type": "markdown",
   "id": "5fe9fc59",
   "metadata": {},
   "source": [
    "E para a soma das linhas:"
   ]
  },
  {
   "cell_type": "code",
   "execution_count": 32,
   "id": "86bd97d5",
   "metadata": {},
   "outputs": [
    {
     "data": {
      "text/plain": [
       "array([460, 470, 480, 490, 500, 510, 520, 530, 540, 550])"
      ]
     },
     "execution_count": 32,
     "metadata": {},
     "output_type": "execute_result"
    }
   ],
   "source": [
    "np.sum(C, axis=1)"
   ]
  },
  {
   "cell_type": "markdown",
   "id": "fdbbe128",
   "metadata": {},
   "source": [
    "## 6.4. Algebra matricial\n",
    "\n",
    "No caso de matrizes, algumas operações são importantes, como obter a matriz transposta, a matriz inversa, ou fazer uma multiplicação matricial. \n",
    "\n",
    "Para essas operações, vamos usar a matriz **A**:"
   ]
  },
  {
   "cell_type": "code",
   "execution_count": 33,
   "id": "3430a55d",
   "metadata": {},
   "outputs": [
    {
     "name": "stdout",
     "output_type": "stream",
     "text": [
      "[[1. 2.]\n",
      " [3. 4.]]\n"
     ]
    }
   ],
   "source": [
    "A = np.array([[1., 2.], [3., 4.]])\n",
    "print(A)"
   ]
  },
  {
   "cell_type": "markdown",
   "id": "a29001a1",
   "metadata": {},
   "source": [
    "Como vimos anteriormente (na seção 6.2, ao criar a matriz **C**), para obter a matriz transposta de **A**, podemos simplemente utilizar: "
   ]
  },
  {
   "cell_type": "code",
   "execution_count": 34,
   "id": "7577b265",
   "metadata": {},
   "outputs": [
    {
     "data": {
      "text/plain": [
       "array([[1., 3.],\n",
       "       [2., 4.]])"
      ]
     },
     "execution_count": 34,
     "metadata": {},
     "output_type": "execute_result"
    }
   ],
   "source": [
    "A.T"
   ]
  },
  {
   "cell_type": "markdown",
   "id": "f64032d3",
   "metadata": {},
   "source": [
    "Para obter a inversa de **A**: "
   ]
  },
  {
   "cell_type": "code",
   "execution_count": 35,
   "id": "e8d15275",
   "metadata": {},
   "outputs": [
    {
     "data": {
      "text/plain": [
       "array([[-2. ,  1. ],\n",
       "       [ 1.5, -0.5]])"
      ]
     },
     "execution_count": 35,
     "metadata": {},
     "output_type": "execute_result"
    }
   ],
   "source": [
    "np.linalg.inv(A)"
   ]
  },
  {
   "cell_type": "markdown",
   "id": "781a4b37",
   "metadata": {},
   "source": [
    "Para obter o determinante da matriz **A**: "
   ]
  },
  {
   "cell_type": "code",
   "execution_count": 36,
   "id": "4370491d",
   "metadata": {},
   "outputs": [
    {
     "data": {
      "text/plain": [
       "-2.0000000000000004"
      ]
     },
     "execution_count": 36,
     "metadata": {},
     "output_type": "execute_result"
    }
   ],
   "source": [
    "np.linalg.det(A)"
   ]
  },
  {
   "cell_type": "markdown",
   "id": "b771f8d8",
   "metadata": {},
   "source": [
    "A multiplicação de matrizes pode ser obtida pela função `np.matmul`. \n",
    "\n",
    "Para isso vamos criar um vetor **B** de dimensão *2x1*, e, em seguida, pré-multiplicar **A** por **B**:  "
   ]
  },
  {
   "cell_type": "code",
   "execution_count": 37,
   "id": "cdb8ac5a",
   "metadata": {},
   "outputs": [
    {
     "data": {
      "text/plain": [
       "array([12., 34.])"
      ]
     },
     "execution_count": 37,
     "metadata": {},
     "output_type": "execute_result"
    }
   ],
   "source": [
    "B = [10, 1]\n",
    "np.matmul(A,B)"
   ]
  },
  {
   "cell_type": "markdown",
   "id": "6c9c701a",
   "metadata": {},
   "source": [
    "Lembre-se de que a multiplicação de uma matriz *2x2* por um vetor *2x1* resulta em um vetor *2x1*, como obtido acima. Se estiver em dúvida sobre o tamanho das matrizes que está multiplicando, utilize a função `np.shape`.\n",
    "\n",
    "As funções matemáticas e estatísticas também podem ser usadas com as matrizes. As funções `sum()`, `mean()`, `std()`, `min()` e `max()` irão retornar a soma, média, desvio padrão, mínimo e máximo da matriz, respectivamente. Veja os exemplos abaixo com a matriz **C**:"
   ]
  },
  {
   "cell_type": "code",
   "execution_count": 38,
   "id": "350e1645",
   "metadata": {},
   "outputs": [
    {
     "data": {
      "text/plain": [
       "5050"
      ]
     },
     "execution_count": 38,
     "metadata": {},
     "output_type": "execute_result"
    }
   ],
   "source": [
    "np.sum(C)"
   ]
  },
  {
   "cell_type": "code",
   "execution_count": 39,
   "id": "929aeb20",
   "metadata": {},
   "outputs": [
    {
     "data": {
      "text/plain": [
       "50.5"
      ]
     },
     "execution_count": 39,
     "metadata": {},
     "output_type": "execute_result"
    }
   ],
   "source": [
    "np.mean(C)"
   ]
  },
  {
   "cell_type": "code",
   "execution_count": 40,
   "id": "1a513a05",
   "metadata": {},
   "outputs": [
    {
     "data": {
      "text/plain": [
       "28.86607004772212"
      ]
     },
     "execution_count": 40,
     "metadata": {},
     "output_type": "execute_result"
    }
   ],
   "source": [
    "np.std(C)"
   ]
  },
  {
   "cell_type": "code",
   "execution_count": 41,
   "id": "acc543b0",
   "metadata": {},
   "outputs": [
    {
     "data": {
      "text/plain": [
       "1"
      ]
     },
     "execution_count": 41,
     "metadata": {},
     "output_type": "execute_result"
    }
   ],
   "source": [
    "np.min(C)"
   ]
  },
  {
   "cell_type": "code",
   "execution_count": 42,
   "id": "c731ed10",
   "metadata": {},
   "outputs": [
    {
     "data": {
      "text/plain": [
       "100"
      ]
     },
     "execution_count": 42,
     "metadata": {},
     "output_type": "execute_result"
    }
   ],
   "source": [
    "np.max(C)"
   ]
  }
 ],
 "metadata": {
  "kernelspec": {
   "display_name": "Python 3 (ipykernel)",
   "language": "python",
   "name": "python3"
  },
  "language_info": {
   "codemirror_mode": {
    "name": "ipython",
    "version": 3
   },
   "file_extension": ".py",
   "mimetype": "text/x-python",
   "name": "python",
   "nbconvert_exporter": "python",
   "pygments_lexer": "ipython3",
   "version": "3.9.12"
  }
 },
 "nbformat": 4,
 "nbformat_minor": 5
}
